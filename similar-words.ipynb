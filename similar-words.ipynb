{
 "cells": [
  {
   "cell_type": "code",
   "execution_count": 1,
   "id": "6a79a588",
   "metadata": {
    "execution": {
     "iopub.execute_input": "2024-06-28T09:59:27.362625Z",
     "iopub.status.busy": "2024-06-28T09:59:27.362168Z",
     "iopub.status.idle": "2024-06-28T09:59:27.369725Z",
     "shell.execute_reply": "2024-06-28T09:59:27.368581Z"
    },
    "papermill": {
     "duration": 0.023068,
     "end_time": "2024-06-28T09:59:27.372236",
     "exception": false,
     "start_time": "2024-06-28T09:59:27.349168",
     "status": "completed"
    },
    "tags": []
   },
   "outputs": [],
   "source": [
    "    # # Clear output folder\n",
    "# import os\n",
    "\n",
    "# def remove_folder_contents(folder):\n",
    "#     for the_file in os.listdir(folder):\n",
    "#         file_path = os.path.join(folder, the_file)\n",
    "#         try:\n",
    "#             if os.path.isfile(file_path):\n",
    "#                 os.unlink(file_path)\n",
    "#             elif os.path.isdir(file_path):\n",
    "#                 remove_folder_contents(file_path)\n",
    "#                 os.rmdir(file_path)\n",
    "#         except Exception as e:\n",
    "#             print(e)\n",
    "\n",
    "# folder_path = '/kaggle/working'\n",
    "# remove_folder_contents(folder_path)\n",
    "# os.rmdir(folder_path)"
   ]
  },
  {
   "cell_type": "code",
   "execution_count": 2,
   "id": "7a009deb",
   "metadata": {
    "execution": {
     "iopub.execute_input": "2024-06-28T09:59:27.394033Z",
     "iopub.status.busy": "2024-06-28T09:59:27.393616Z",
     "iopub.status.idle": "2024-06-28T09:59:31.244898Z",
     "shell.execute_reply": "2024-06-28T09:59:31.243051Z"
    },
    "papermill": {
     "duration": 3.86587,
     "end_time": "2024-06-28T09:59:31.248112",
     "exception": false,
     "start_time": "2024-06-28T09:59:27.382242",
     "status": "completed"
    },
    "tags": []
   },
   "outputs": [
    {
     "name": "stdout",
     "output_type": "stream",
     "text": [
      "--2024-06-28 09:59:28--  https://dl.fbaipublicfiles.com/fasttext/vectors-english/wiki-news-300d-1M.vec.zip\r\n",
      "Resolving dl.fbaipublicfiles.com (dl.fbaipublicfiles.com)... 18.164.78.72, 18.164.78.128, 18.164.78.121, ...\r\n",
      "Connecting to dl.fbaipublicfiles.com (dl.fbaipublicfiles.com)|18.164.78.72|:443... connected.\r\n",
      "HTTP request sent, awaiting response... 200 OK\r\n",
      "Length: 681808098 (650M) [application/zip]\r\n",
      "Saving to: 'wiki-news-300d-1M.vec.zip'\r\n",
      "\r\n",
      "wiki-news-300d-1M.v 100%[===================>] 650.22M   253MB/s    in 2.6s    \r\n",
      "\r\n",
      "2024-06-28 09:59:31 (253 MB/s) - 'wiki-news-300d-1M.vec.zip' saved [681808098/681808098]\r\n",
      "\r\n"
     ]
    }
   ],
   "source": [
    "!wget 'https://dl.fbaipublicfiles.com/fasttext/vectors-english/wiki-news-300d-1M.vec.zip'"
   ]
  },
  {
   "cell_type": "code",
   "execution_count": 3,
   "id": "51e84c6c",
   "metadata": {
    "execution": {
     "iopub.execute_input": "2024-06-28T09:59:31.273874Z",
     "iopub.status.busy": "2024-06-28T09:59:31.273401Z",
     "iopub.status.idle": "2024-06-28T09:59:53.364098Z",
     "shell.execute_reply": "2024-06-28T09:59:53.362559Z"
    },
    "papermill": {
     "duration": 22.107223,
     "end_time": "2024-06-28T09:59:53.367338",
     "exception": false,
     "start_time": "2024-06-28T09:59:31.260115",
     "status": "completed"
    },
    "tags": []
   },
   "outputs": [
    {
     "name": "stdout",
     "output_type": "stream",
     "text": [
      "Archive:  wiki-news-300d-1M.vec.zip\r\n",
      "  inflating: wiki-news-300d-1M.vec   \r\n"
     ]
    }
   ],
   "source": [
    "!unzip 'wiki-news-300d-1M.vec.zip'"
   ]
  },
  {
   "cell_type": "code",
   "execution_count": 4,
   "id": "9e3a8e48",
   "metadata": {
    "execution": {
     "iopub.execute_input": "2024-06-28T09:59:53.394446Z",
     "iopub.status.busy": "2024-06-28T09:59:53.393957Z",
     "iopub.status.idle": "2024-06-28T09:59:53.400261Z",
     "shell.execute_reply": "2024-06-28T09:59:53.398760Z"
    },
    "papermill": {
     "duration": 0.022862,
     "end_time": "2024-06-28T09:59:53.402987",
     "exception": false,
     "start_time": "2024-06-28T09:59:53.380125",
     "status": "completed"
    },
    "tags": []
   },
   "outputs": [],
   "source": [
    "#!head /kaggle/working/wiki-news-300d-1M.vec"
   ]
  },
  {
   "cell_type": "code",
   "execution_count": 5,
   "id": "7a46ed51",
   "metadata": {
    "execution": {
     "iopub.execute_input": "2024-06-28T09:59:53.428773Z",
     "iopub.status.busy": "2024-06-28T09:59:53.428339Z",
     "iopub.status.idle": "2024-06-28T10:01:45.748460Z",
     "shell.execute_reply": "2024-06-28T10:01:45.747235Z"
    },
    "papermill": {
     "duration": 112.347788,
     "end_time": "2024-06-28T10:01:45.762729",
     "exception": false,
     "start_time": "2024-06-28T09:59:53.414941",
     "status": "completed"
    },
    "tags": []
   },
   "outputs": [
    {
     "name": "stdout",
     "output_type": "stream",
     "text": [
      "First line (metadata): 999994 300\n",
      "\n",
      "File read successfully and word vectors stored in the dictionary.\n",
      "Word: ,, Vector: [0.1073, 0.0089, 0.0006, 0.0055, -0.0646, -0.06, 0.045, -0.0133, -0.0357, 0.043, -0.0356, -0.0032, 0.0073, -0.0001, 0.0258, -0.0166, 0.0075, 0.0686, 0.0392, 0.0753, 0.0115, -0.0087, 0.0421, 0.0265, -0.0601, 0.242, 0.0199, -0.0739, -0.0031, -0.0263, -0.0062, 0.0168, -0.0357, -0.0249, 0.019, -0.0184, -0.0537, 0.142, 0.06, 0.0226, -0.0038, -0.0675, -0.0036, -0.008, 0.057, 0.0208, 0.0223, -0.0256, -0.0153, 0.0022, -0.0482, 0.0131, -0.6016, -0.0088, 0.0106, 0.0229, 0.0336, 0.0071, 0.0887, 0.0237, -0.029, -0.0405, -0.0125, 0.0147, 0.0475, 0.0647, 0.0474, 0.0199, 0.0408, 0.0322, 0.0036, 0.035, -0.0723, -0.0305, 0.0184, -0.0026, 0.024, -0.016, -0.0308, 0.0434, 0.0147, -0.0457, -0.0267, -0.1703, -0.0099, 0.0417, 0.0235, -0.026, -0.1519, -0.0116, -0.0306, -0.0413, 0.033, 0.0723, 0.0365, -0.0001, 0.0042, 0.0346, 0.0277, -0.0305, 0.0784, -0.0404, 0.0187, -0.0225, -0.0206, -0.0179, -0.2428, 0.0669, 0.0523, 0.0527, 0.0149, -0.0708, -0.0987, 0.0263, -0.0611, 0.0302, 0.0216, 0.0313, -0.014, -0.2495, -0.0346, -0.048, 0.025, 0.213, -0.033, -0.1553, -0.0292, -0.0346, 0.1074, 0.001, -0.0117, -0.0057, -0.128, -0.0038, 0.013, -0.1157, -0.0108, 0.0275, 0.0158, -0.0169, 0.007, 0.0247, 0.051, 1.0292, -0.0283, -0.031, -0.0026, -0.0343, 0.0578, 0.0444, 0.0812, -0.0211, -0.0872, 0.0169, 0.0499, 0.0485, 0.0227, -0.0323, -0.0035, 0.0435, -0.0275, 0.0154, 0.0135, -0.0484, -0.0699, -0.0502, 0.2745, -0.0003, -0.0371, 0.0517, -0.0908, 0.0013, 0.036, 0.028, 0.0839, 0.098, -0.049, -0.2423, -0.0142, 0.0024, -0.0207, 0.0012, 0.0088, -0.0143, -0.0197, 0.0515, -0.0085, 0.0257, 0.2154, 0.0301, 0.0211, 0.053, -0.0005, 0.0177, 0.0016, -0.0053, -0.0162, -0.0223, -0.1862, 0.0398, 0.0658, -0.0962, -0.0076, -0.0075, -0.0342, -0.0265, 0.042, 0.0522, -0.0266, 0.0201, -0.1331, -0.0367, 0.0351, 0.0518, -0.0087, 0.0599, -0.1086, -0.0188, 0.0481, 0.0105, -0.006, 0.0151, -0.0031, 0.0077, -0.0276, -0.0373, -0.0203, 0.0472, 0.0246, 0.144, 0.0542, -0.0225, 0.2495, 0.1617, 0.0038, 0.1119, -0.023, -0.0785, 0.025, -0.0616, -0.0485, 0.0225, 0.0281, 0.0041, 0.0112, 0.0172, 0.0291, -0.0282, 0.0026, 0.4055, 0.0392, 0.0088, 0.0228, 0.0299, 0.1195, 0.0545, -0.002, 0.002, 0.049, 0.0145, -0.0086, 0.0098, -0.0236, 0.0171, -0.0765, -0.04, 0.0128, 0.0011, 0.0042, 0.0244, 0.0075, 0.02, 0.0201, 0.0196, -0.0377, -0.0432, -0.0073, -0.0021, 0.0183, 0.0076, 0.1805, -0.0551, 0.0075, -0.0516, 0.042, -0.0068, -0.0711, -0.1408, 0.0504, 0.0276, 0.047, 0.0323, -0.0219, 0.001, 0.0089, 0.0276, 0.0186, 0.005, 0.1173, -0.04]\n"
     ]
    }
   ],
   "source": [
    "import os\n",
    "\n",
    "file_path = '/kaggle/working/wiki-news-300d-1M.vec'\n",
    "\n",
    "try:\n",
    "    with open(file_path, 'r', encoding='utf-8') as file:\n",
    "        first_line = file.readline()\n",
    "        print(\"First line (metadata):\", first_line)\n",
    "        \n",
    "        word_vectors = dict()\n",
    "        \n",
    "        for line in file:\n",
    "            parts = line.strip().split()\n",
    "            word = parts[0]\n",
    "            embedding_vector = list(map(float, parts[1:]))\n",
    "            word_vectors[word] = embedding_vector\n",
    "\n",
    "    print(\"File read successfully and word vectors stored in the dictionary.\")\n",
    "    for word, vector in list(word_vectors.items())[:1]:\n",
    "        print(f\"Word: {word}, Vector: {vector}\")\n",
    "\n",
    "except Exception as e:\n",
    "    print(f\"An error occurred: {e}\")"
   ]
  },
  {
   "cell_type": "code",
   "execution_count": 6,
   "id": "45e69959",
   "metadata": {
    "execution": {
     "iopub.execute_input": "2024-06-28T10:01:45.790402Z",
     "iopub.status.busy": "2024-06-28T10:01:45.789332Z",
     "iopub.status.idle": "2024-06-28T10:01:45.798580Z",
     "shell.execute_reply": "2024-06-28T10:01:45.797208Z"
    },
    "papermill": {
     "duration": 0.026484,
     "end_time": "2024-06-28T10:01:45.801074",
     "exception": false,
     "start_time": "2024-06-28T10:01:45.774590",
     "status": "completed"
    },
    "tags": []
   },
   "outputs": [
    {
     "data": {
      "text/plain": [
       "list[[-0.1006, -0.1081, 0.086, -0.0913, -0.0335, 0.0238, 0.0102, -0.0019, -0.0199, 0.1191, -0.236, -0.1108, -0.004, -0.0754, -0.1965, 0.063, -0.1241, -0.1043, 0.0706, -0.0958, -0.1889, -0.1089, -0.01, 0.2148, 0.071, -0.1083, 0.1288, 0.1171, -0.0094, -0.0714, 0.0245, 0.0174, 0.0581, -0.056, 0.0757, -0.0383, 0.0349, 0.1114, 0.071, 0.0488, -0.0199, 0.0101, -0.1571, -0.113, 0.0247, 0.0678, -0.0151, -0.0411, 0.0131, 0.0621, 0.0017, 0.071, -0.6615, 0.0794, 0.0821, 0.0467, -0.1827, 0.0762, 0.087, -0.0872, -0.0828, 0.0642, -0.1064, -0.0833, -0.0191, 0.1168, 0.1224, 0.011, 0.337, 0.0169, -0.0387, -0.031, 0.0649, -0.0304, 0.0168, 0.2116, 0.0061, 0.0527, 0.1095, 0.0582, -0.0816, -0.0253, -0.1148, -0.1856, -0.0869, -0.1536, 0.0203, -0.0487, 0.2598, 0.0551, -0.1285, 0.0121, -0.1673, -0.1057, -0.113, -0.0575, 0.0115, 0.1028, -0.052, 0.0801, -0.1989, 0.026, -0.0497, 0.0534, 0.1095, 0.0678, 0.0582, 0.1006, 0.007, 0.0882, -0.1381, 0.1261, 0.0485, 0.1721, -0.057, -0.0088, -0.094, 0.0042, 0.0365, -0.2907, -0.0164, 0.0941, 0.038, 0.0456, -0.0665, 0.2086, 0.0031, 0.0092, -0.0577, -0.2221, 0.0668, 0.0247, 0.0508, -0.0435, -0.0484, 0.0106, 0.0288, -0.1948, -0.0619, -0.0327, -0.0232, -0.0146, 0.1029, 0.1823, -0.0025, 0.086, -0.0946, 0.0238, -0.0582, -0.0258, 0.1111, 0.0074, 0.0056, 0.0207, -0.0167, 0.0115, -0.0528, 0.0243, 0.0226, 0.1307, 0.0682, -0.244, -0.0783, -0.0041, 0.0518, -0.0262, 0.031, 0.0149, -0.118, 0.0587, -0.0214, -0.1745, 0.0064, -0.0454, -0.0081, -0.056, 0.3739, -0.2825, -0.0948, 0.0502, 0.0222, -0.0542, -0.0083, -0.0668, 0.0426, -0.0694, 0.0322, -0.0065, -0.2974, 0.0182, 0.1085, -0.1177, -0.0662, 0.0274, -0.0105, 0.0068, 0.0121, -0.0297, 0.0324, -0.1193, 0.0082, -0.0659, 0.1858, 0.067, 0.2182, -0.0274, -0.0666, 0.0229, 0.11, -0.0102, -0.0851, 0.1618, -0.0683, -0.1777, -0.0355, -0.1954, 0.0099, -0.1239, 0.0778, 0.1297, 0.05, -0.0611, 0.0077, 0.0698, 0.1947, -0.122, 0.0764, -0.0171, -0.0442, 0.0788, 0.045, 0.1062, 0.3264, 0.0047, 0.022, -0.0988, 0.0468, 0.1731, -0.2737, 0.1068, -0.0488, -0.0055, -0.003, -0.0546, -0.0001, 0.1072, -0.0613, 0.2074, 0.0017, 0.3246, 0.1051, 0.0837, -0.2293, -0.1014, 0.1697, -0.1583, 0.084, 0.1653, -0.0561, -0.0023, -0.1165, 0.0821, 0.0681, 0.0883, -0.355, 0.1053, -0.0663, -0.1054, -0.2293, 0.0604, 0.0512, 0.0033, 0.1509, -0.1712, -0.0401, -0.0259, 0.102, -0.0596, -0.064, -0.0357, 0.044, -0.0308, 0.0794, 0.0549, 0.0656, -0.1666, -0.1496, -0.0248, -0.0035, 0.0636, -0.0482, -0.1331, -0.1326, 0.1726, -0.0663, 0.0322, -0.0277, -0.2936, -0.1335, 0.1077]]"
      ]
     },
     "execution_count": 6,
     "metadata": {},
     "output_type": "execute_result"
    }
   ],
   "source": [
    "list[word_vectors['college']]"
   ]
  },
  {
   "cell_type": "code",
   "execution_count": 7,
   "id": "6c57fb69",
   "metadata": {
    "execution": {
     "iopub.execute_input": "2024-06-28T10:01:45.828217Z",
     "iopub.status.busy": "2024-06-28T10:01:45.827456Z",
     "iopub.status.idle": "2024-06-28T10:01:45.836869Z",
     "shell.execute_reply": "2024-06-28T10:01:45.835699Z"
    },
    "papermill": {
     "duration": 0.027007,
     "end_time": "2024-06-28T10:01:45.840038",
     "exception": false,
     "start_time": "2024-06-28T10:01:45.813031",
     "status": "completed"
    },
    "tags": []
   },
   "outputs": [
    {
     "name": "stdout",
     "output_type": "stream",
     "text": [
      "Cosine Similarity between college and university: 0.7941901894056824\n",
      "Cosine Similarity between college and office: 0.49781446402087\n"
     ]
    }
   ],
   "source": [
    "import numpy as np\n",
    "from numpy.linalg import norm\n",
    " \n",
    "w1 = np.array(word_vectors['college'])\n",
    "w2 = np.array(word_vectors['university'])\n",
    "w3 = np.array(word_vectors['office'])\n",
    "\n",
    "w1_w2_cosine = np.dot(w1,w2)/(norm(w1)*norm(w2))\n",
    "print(\"Cosine Similarity between college and university:\", w1_w2_cosine)\n",
    "\n",
    "w1_w3_cosine = np.dot(w1,w3)/(norm(w1)*norm(w3))\n",
    "print(\"Cosine Similarity between college and office:\", w1_w3_cosine)"
   ]
  },
  {
   "cell_type": "code",
   "execution_count": 8,
   "id": "8800b528",
   "metadata": {
    "execution": {
     "iopub.execute_input": "2024-06-28T10:01:45.867126Z",
     "iopub.status.busy": "2024-06-28T10:01:45.866714Z",
     "iopub.status.idle": "2024-06-28T10:01:45.875957Z",
     "shell.execute_reply": "2024-06-28T10:01:45.874595Z"
    },
    "papermill": {
     "duration": 0.026658,
     "end_time": "2024-06-28T10:01:45.878789",
     "exception": false,
     "start_time": "2024-06-28T10:01:45.852131",
     "status": "completed"
    },
    "tags": []
   },
   "outputs": [
    {
     "name": "stdout",
     "output_type": "stream",
     "text": [
      "Cosine Similarity between college and university: 0.7941901894056824\n",
      "Cosine Similarity between college and office: 0.8145452065471966\n"
     ]
    }
   ],
   "source": [
    "w1 = np.array(word_vectors['college'])\n",
    "w2 = np.array(word_vectors['university'])\n",
    "w3 = np.array(word_vectors['office'])\n",
    "\n",
    "w1_w2_cosine = np.dot(w1,w2)/(norm(w1)*norm(w2))\n",
    "w1_w3_cosine = np.dot(w1,w2)/(norm(w1)*norm(w3))\n",
    "              \n",
    "print(\"Cosine Similarity between college and university:\", w1_w2_cosine)\n",
    "print(\"Cosine Similarity between college and office:\", w1_w3_cosine)"
   ]
  },
  {
   "cell_type": "code",
   "execution_count": 9,
   "id": "b587f188",
   "metadata": {
    "execution": {
     "iopub.execute_input": "2024-06-28T10:01:45.905277Z",
     "iopub.status.busy": "2024-06-28T10:01:45.904875Z",
     "iopub.status.idle": "2024-06-28T10:04:05.013252Z",
     "shell.execute_reply": "2024-06-28T10:04:05.011986Z"
    },
    "papermill": {
     "duration": 139.12591,
     "end_time": "2024-06-28T10:04:05.016966",
     "exception": false,
     "start_time": "2024-06-28T10:01:45.891056",
     "status": "completed"
    },
    "tags": []
   },
   "outputs": [],
   "source": [
    "similarity_vals = dict()\n",
    "query_vec = word_vectors['college']\n",
    "\n",
    "for word,vector in word_vectors.items():\n",
    "    similarity_vals[word] = np.dot(vector,query_vec)/(norm(vector)*norm(query_vec))"
   ]
  },
  {
   "cell_type": "code",
   "execution_count": 10,
   "id": "9bf94e62",
   "metadata": {
    "execution": {
     "iopub.execute_input": "2024-06-28T10:04:05.043962Z",
     "iopub.status.busy": "2024-06-28T10:04:05.043518Z",
     "iopub.status.idle": "2024-06-28T10:04:06.876719Z",
     "shell.execute_reply": "2024-06-28T10:04:06.875232Z"
    },
    "papermill": {
     "duration": 1.849816,
     "end_time": "2024-06-28T10:04:06.879674",
     "exception": false,
     "start_time": "2024-06-28T10:04:05.029858",
     "status": "completed"
    },
    "tags": []
   },
   "outputs": [],
   "source": [
    "top_10_similar_words = sorted(similarity_vals.items(), key=lambda item: item[1], reverse=True)[:10]"
   ]
  },
  {
   "cell_type": "code",
   "execution_count": 11,
   "id": "f9ddd516",
   "metadata": {
    "execution": {
     "iopub.execute_input": "2024-06-28T10:04:06.906086Z",
     "iopub.status.busy": "2024-06-28T10:04:06.905684Z",
     "iopub.status.idle": "2024-06-28T10:04:06.912087Z",
     "shell.execute_reply": "2024-06-28T10:04:06.910854Z"
    },
    "papermill": {
     "duration": 0.02265,
     "end_time": "2024-06-28T10:04:06.914776",
     "exception": false,
     "start_time": "2024-06-28T10:04:06.892126",
     "status": "completed"
    },
    "tags": []
   },
   "outputs": [
    {
     "name": "stdout",
     "output_type": "stream",
     "text": [
      "Word: college, Similarity: 1.0\n",
      "Word: university, Similarity: 0.7941901894056824\n",
      "Word: colleges, Similarity: 0.7461447526359718\n",
      "Word: College, Similarity: 0.7121434169638946\n",
      "Word: school, Similarity: 0.7050682332798615\n",
      "Word: campus, Similarity: 0.7024628844506265\n",
      "Word: collegiate, Similarity: 0.6864985865943902\n",
      "Word: student, Similarity: 0.6444006026771875\n",
      "Word: seminary, Similarity: 0.6437642273724472\n",
      "Word: undergraduate, Similarity: 0.6233375665267828\n"
     ]
    }
   ],
   "source": [
    "for word,similarity in top_10_similar_words:\n",
    "    print(f\"Word: {word}, Similarity: {similarity}\")"
   ]
  },
  {
   "cell_type": "markdown",
   "id": "b9ece2eb",
   "metadata": {
    "papermill": {
     "duration": 0.012522,
     "end_time": "2024-06-28T10:04:06.939464",
     "exception": false,
     "start_time": "2024-06-28T10:04:06.926942",
     "status": "completed"
    },
    "tags": []
   },
   "source": [
    "**Visualization**"
   ]
  },
  {
   "cell_type": "code",
   "execution_count": 12,
   "id": "7f4c847c",
   "metadata": {
    "execution": {
     "iopub.execute_input": "2024-06-28T10:04:06.965899Z",
     "iopub.status.busy": "2024-06-28T10:04:06.965422Z",
     "iopub.status.idle": "2024-06-28T10:04:11.949774Z",
     "shell.execute_reply": "2024-06-28T10:04:11.948347Z"
    },
    "papermill": {
     "duration": 5.000742,
     "end_time": "2024-06-28T10:04:11.952472",
     "exception": false,
     "start_time": "2024-06-28T10:04:06.951730",
     "status": "completed"
    },
    "tags": []
   },
   "outputs": [
    {
     "data": {
      "image/png": "[encoded data removed]",
      "text/plain": [
       "<Figure size 1000x600 with 1 Axes>"
      ]
     },
     "metadata": {},
     "output_type": "display_data"
    }
   ],
   "source": [
    "import matplotlib.pyplot as plt\n",
    "\n",
    "values = list(similarity_vals.values())\n",
    "\n",
    "plt.figure(figsize=(10, 6))\n",
    "plt.hist(values, bins=20, edgecolor='black')\n",
    "\n",
    "plt.title('Histogram of Similarity values')\n",
    "plt.xlabel('Value')\n",
    "plt.ylabel('Frequency')\n",
    "\n",
    "plt.show()"
   ]
  },
  {
   "cell_type": "code",
   "execution_count": 13,
   "id": "449f3f12",
   "metadata": {
    "execution": {
     "iopub.execute_input": "2024-06-28T10:04:11.980897Z",
     "iopub.status.busy": "2024-06-28T10:04:11.980263Z",
     "iopub.status.idle": "2024-06-28T10:04:15.285152Z",
     "shell.execute_reply": "2024-06-28T10:04:15.283918Z"
    },
    "papermill": {
     "duration": 3.322881,
     "end_time": "2024-06-28T10:04:15.288414",
     "exception": false,
     "start_time": "2024-06-28T10:04:11.965533",
     "status": "completed"
    },
    "tags": []
   },
   "outputs": [],
   "source": [
    "import numpy as np\n",
    "import pandas as pd\n",
    "import matplotlib.pyplot as plt\n",
    "import seaborn as sns\n",
    "from sklearn.decomposition import PCA\n",
    "from sklearn.manifold import TSNE\n",
    "from numpy.linalg import norm"
   ]
  },
  {
   "cell_type": "code",
   "execution_count": 14,
   "id": "e1bf75c7",
   "metadata": {
    "execution": {
     "iopub.execute_input": "2024-06-28T10:04:15.317167Z",
     "iopub.status.busy": "2024-06-28T10:04:15.316534Z",
     "iopub.status.idle": "2024-06-28T10:04:15.325772Z",
     "shell.execute_reply": "2024-06-28T10:04:15.324072Z"
    },
    "papermill": {
     "duration": 0.027486,
     "end_time": "2024-06-28T10:04:15.328794",
     "exception": false,
     "start_time": "2024-06-28T10:04:15.301308",
     "status": "completed"
    },
    "tags": []
   },
   "outputs": [],
   "source": [
    "def find_top_similar_words(query_word, word_vectors, top_k = 50):\n",
    "    similarity_vals = dict()\n",
    "    query_vec = word_vectors[query_word]\n",
    "    \n",
    "    for word, vector in word_vectors.items():\n",
    "        similarity_vals[word] = np.dot(query_vec, vector) / (norm(query_vec) * norm(vector))\n",
    "        \n",
    "    sorted_words = sorted(similarity_vals.items(), key=lambda item: item[1], reverse=True)\n",
    "    return sorted_words[1:(top_k+1)]"
   ]
  },
  {
   "cell_type": "code",
   "execution_count": 15,
   "id": "80432940",
   "metadata": {
    "execution": {
     "iopub.execute_input": "2024-06-28T10:04:15.357099Z",
     "iopub.status.busy": "2024-06-28T10:04:15.356642Z",
     "iopub.status.idle": "2024-06-28T10:06:36.953278Z",
     "shell.execute_reply": "2024-06-28T10:06:36.951858Z"
    },
    "papermill": {
     "duration": 141.613946,
     "end_time": "2024-06-28T10:06:36.956385",
     "exception": false,
     "start_time": "2024-06-28T10:04:15.342439",
     "status": "completed"
    },
    "tags": []
   },
   "outputs": [],
   "source": [
    "query_word = \"car\"\n",
    "similar_words_car = find_top_similar_words(query_word, word_vectors)"
   ]
  },
  {
   "cell_type": "code",
   "execution_count": 16,
   "id": "82b8a230",
   "metadata": {
    "execution": {
     "iopub.execute_input": "2024-06-28T10:06:36.984292Z",
     "iopub.status.busy": "2024-06-28T10:06:36.983908Z",
     "iopub.status.idle": "2024-06-28T10:06:36.995147Z",
     "shell.execute_reply": "2024-06-28T10:06:36.993891Z"
    },
    "papermill": {
     "duration": 0.028353,
     "end_time": "2024-06-28T10:06:36.997917",
     "exception": false,
     "start_time": "2024-06-28T10:06:36.969564",
     "status": "completed"
    },
    "tags": []
   },
   "outputs": [],
   "source": [
    "word = query_word\n",
    "\n",
    "arrays = np.empty((0, 300), dtype='f')\n",
    "    \n",
    "word_labels = [word]\n",
    "color_list = ['red'] \n",
    "    \n",
    "arrays = np.append(arrays, [word_vectors[word]], axis=0)\n",
    "    \n",
    "for wrd in similar_words_car[:100]:\n",
    "    wrd_vector = word_vectors[wrd[0]]\n",
    "    word_labels.append(wrd[0])\n",
    "    color_list.append('blue') \n",
    "    arrays = np.append(arrays, [wrd_vector], axis=0)"
   ]
  },
  {
   "cell_type": "code",
   "execution_count": 17,
   "id": "5316456a",
   "metadata": {
    "execution": {
     "iopub.execute_input": "2024-06-28T10:06:37.025487Z",
     "iopub.status.busy": "2024-06-28T10:06:37.025025Z",
     "iopub.status.idle": "2024-06-28T10:06:37.032551Z",
     "shell.execute_reply": "2024-06-28T10:06:37.031286Z"
    },
    "papermill": {
     "duration": 0.024425,
     "end_time": "2024-06-28T10:06:37.035254",
     "exception": false,
     "start_time": "2024-06-28T10:06:37.010829",
     "status": "completed"
    },
    "tags": []
   },
   "outputs": [
    {
     "data": {
      "text/plain": [
       "(51, 300)"
      ]
     },
     "execution_count": 17,
     "metadata": {},
     "output_type": "execute_result"
    }
   ],
   "source": [
    "arrays.shape"
   ]
  },
  {
   "cell_type": "code",
   "execution_count": 18,
   "id": "1784ed55",
   "metadata": {
    "execution": {
     "iopub.execute_input": "2024-06-28T10:06:37.063923Z",
     "iopub.status.busy": "2024-06-28T10:06:37.063509Z",
     "iopub.status.idle": "2024-06-28T10:06:37.102783Z",
     "shell.execute_reply": "2024-06-28T10:06:37.100934Z"
    },
    "papermill": {
     "duration": 0.05938,
     "end_time": "2024-06-28T10:06:37.107493",
     "exception": false,
     "start_time": "2024-06-28T10:06:37.048113",
     "status": "completed"
    },
    "tags": []
   },
   "outputs": [],
   "source": [
    "reduc = PCA(n_components=50).fit_transform(arrays)"
   ]
  },
  {
   "cell_type": "code",
   "execution_count": 19,
   "id": "94ed6500",
   "metadata": {
    "execution": {
     "iopub.execute_input": "2024-06-28T10:06:37.170452Z",
     "iopub.status.busy": "2024-06-28T10:06:37.169699Z",
     "iopub.status.idle": "2024-06-28T10:06:37.557692Z",
     "shell.execute_reply": "2024-06-28T10:06:37.556699Z"
    },
    "papermill": {
     "duration": 0.423683,
     "end_time": "2024-06-28T10:06:37.560699",
     "exception": false,
     "start_time": "2024-06-28T10:06:37.137016",
     "status": "completed"
    },
    "tags": []
   },
   "outputs": [],
   "source": [
    "np.set_printoptions(suppress=True)\n",
    "Y = TSNE(n_components=2, random_state=0, perplexity=5, learning_rate=200).fit_transform(reduc)\n",
    "\n",
    "df = pd.DataFrame({\n",
    "        'x': [x for x in Y[:, 0]],\n",
    "        'y': [y for y in Y[:, 1]],\n",
    "        'words': word_labels,\n",
    "        'color': color_list\n",
    "})"
   ]
  },
  {
   "cell_type": "code",
   "execution_count": 20,
   "id": "7e4eb754",
   "metadata": {
    "execution": {
     "iopub.execute_input": "2024-06-28T10:06:37.589756Z",
     "iopub.status.busy": "2024-06-28T10:06:37.589168Z",
     "iopub.status.idle": "2024-06-28T10:06:37.595856Z",
     "shell.execute_reply": "2024-06-28T10:06:37.594286Z"
    },
    "papermill": {
     "duration": 0.023625,
     "end_time": "2024-06-28T10:06:37.598605",
     "exception": false,
     "start_time": "2024-06-28T10:06:37.574980",
     "status": "completed"
    },
    "tags": []
   },
   "outputs": [],
   "source": [
    "df_sample = df.head(10)"
   ]
  },
  {
   "cell_type": "code",
   "execution_count": 21,
   "id": "59f2428a",
   "metadata": {
    "execution": {
     "iopub.execute_input": "2024-06-28T10:06:37.627431Z",
     "iopub.status.busy": "2024-06-28T10:06:37.626969Z",
     "iopub.status.idle": "2024-06-28T10:06:41.555073Z",
     "shell.execute_reply": "2024-06-28T10:06:41.553796Z"
    },
    "papermill": {
     "duration": 3.945593,
     "end_time": "2024-06-28T10:06:41.557723",
     "exception": false,
     "start_time": "2024-06-28T10:06:37.612130",
     "status": "completed"
    },
    "tags": []
   },
   "outputs": [
    {
     "data": {
      "image/png": "[encoded data removed]",
      "text/plain": [
       "<Figure size 900x900 with 1 Axes>"
      ]
     },
     "metadata": {},
     "output_type": "display_data"
    }
   ],
   "source": [
    "\n",
    "fig, _ = plt.subplots()\n",
    "fig.set_size_inches(9, 9)\n",
    "    \n",
    "\n",
    "p1 = sns.regplot(data=df_sample,\n",
    "                 x=\"x\",\n",
    "                 y=\"y\",\n",
    "                 fit_reg=False,\n",
    "                 marker=\"o\",\n",
    "                 scatter_kws={'s': 40, 'facecolors': df_sample['color']})\n",
    "\n",
    "\n",
    "for line in range(0, df_sample.shape[0]):\n",
    "    p1.text(df_sample[\"x\"][line],\n",
    "            df_sample['y'][line],\n",
    "            '  ' + df[\"words\"][line].title(),\n",
    "            horizontalalignment='left',\n",
    "            verticalalignment='bottom', \n",
    "            size='medium',\n",
    "            color=df_sample['color'][line],\n",
    "            weight='normal').set_size(15)\n",
    "\n",
    "plt.xlim(Y[:, 0].min()-50, Y[:, 0].max()+50)\n",
    "plt.ylim(Y[:, 1].min()-50, Y[:, 1].max()+50)\n",
    "\n",
    "plt.title('t-SNE visualization for {}'.format(word.title()))\n",
    "\n",
    "plt.show()"
   ]
  },
  {
   "cell_type": "markdown",
   "id": "80b237e0",
   "metadata": {
    "papermill": {
     "duration": 0.013031,
     "end_time": "2024-06-28T10:06:41.584204",
     "exception": false,
     "start_time": "2024-06-28T10:06:41.571173",
     "status": "completed"
    },
    "tags": []
   },
   "source": [
    "**ANNOY**"
   ]
  },
  {
   "cell_type": "code",
   "execution_count": 22,
   "id": "e6fff939",
   "metadata": {
    "execution": {
     "iopub.execute_input": "2024-06-28T10:06:41.613676Z",
     "iopub.status.busy": "2024-06-28T10:06:41.612610Z",
     "iopub.status.idle": "2024-06-28T10:06:58.992157Z",
     "shell.execute_reply": "2024-06-28T10:06:58.990698Z"
    },
    "papermill": {
     "duration": 17.397609,
     "end_time": "2024-06-28T10:06:58.995435",
     "exception": false,
     "start_time": "2024-06-28T10:06:41.597826",
     "status": "completed"
    },
    "tags": []
   },
   "outputs": [
    {
     "name": "stdout",
     "output_type": "stream",
     "text": [
      "Requirement already satisfied: annoy in /opt/conda/lib/python3.10/site-packages (1.17.3)\r\n"
     ]
    }
   ],
   "source": [
    "!pip install annoy"
   ]
  },
  {
   "cell_type": "code",
   "execution_count": 23,
   "id": "abd82fde",
   "metadata": {
    "execution": {
     "iopub.execute_input": "2024-06-28T10:06:59.026542Z",
     "iopub.status.busy": "2024-06-28T10:06:59.025183Z",
     "iopub.status.idle": "2024-06-28T10:07:25.136159Z",
     "shell.execute_reply": "2024-06-28T10:07:25.134878Z"
    },
    "papermill": {
     "duration": 26.129954,
     "end_time": "2024-06-28T10:07:25.139424",
     "exception": false,
     "start_time": "2024-06-28T10:06:59.009470",
     "status": "completed"
    },
    "tags": []
   },
   "outputs": [],
   "source": [
    "from annoy import AnnoyIndex\n",
    "\n",
    "f = 300  \n",
    "t = AnnoyIndex(f, 'angular')\n",
    "\n",
    "index_to_word = dict()\n",
    "\n",
    "index_val = 0\n",
    "\n",
    "for word, vector in word_vectors.items():    \n",
    "    t.add_item(index_val, vector)\n",
    "    index_to_word[index_val] = word\n",
    "    index_val = index_val + 1"
   ]
  },
  {
   "cell_type": "code",
   "execution_count": 24,
   "id": "e39e7005",
   "metadata": {
    "execution": {
     "iopub.execute_input": "2024-06-28T10:07:25.169430Z",
     "iopub.status.busy": "2024-06-28T10:07:25.168958Z",
     "iopub.status.idle": "2024-06-28T10:09:15.368058Z",
     "shell.execute_reply": "2024-06-28T10:09:15.366317Z"
    },
    "papermill": {
     "duration": 110.267384,
     "end_time": "2024-06-28T10:09:15.420643",
     "exception": false,
     "start_time": "2024-06-28T10:07:25.153259",
     "status": "completed"
    },
    "tags": []
   },
   "outputs": [
    {
     "data": {
      "text/plain": [
       "True"
      ]
     },
     "execution_count": 24,
     "metadata": {},
     "output_type": "execute_result"
    }
   ],
   "source": [
    "t.build(50) \n",
    "t.save('word_embeddings.ann')"
   ]
  },
  {
   "cell_type": "code",
   "execution_count": null,
   "id": "209c7c38",
   "metadata": {
    "papermill": {
     "duration": 0.046967,
     "end_time": "2024-06-28T10:09:15.513690",
     "exception": false,
     "start_time": "2024-06-28T10:09:15.466723",
     "status": "completed"
    },
    "tags": []
   },
   "outputs": [],
   "source": []
  },
  {
   "cell_type": "code",
   "execution_count": 25,
   "id": "8959f38f",
   "metadata": {
    "execution": {
     "iopub.execute_input": "2024-06-28T10:09:15.622201Z",
     "iopub.status.busy": "2024-06-28T10:09:15.620534Z",
     "iopub.status.idle": "2024-06-28T10:09:15.631672Z",
     "shell.execute_reply": "2024-06-28T10:09:15.630446Z"
    },
    "papermill": {
     "duration": 0.066627,
     "end_time": "2024-06-28T10:09:15.634625",
     "exception": false,
     "start_time": "2024-06-28T10:09:15.567998",
     "status": "completed"
    },
    "tags": []
   },
   "outputs": [
    {
     "data": {
      "text/plain": [
       "True"
      ]
     },
     "execution_count": 25,
     "metadata": {},
     "output_type": "execute_result"
    }
   ],
   "source": [
    "u = AnnoyIndex(f, 'angular')\n",
    "u.load('/kaggle/working/word_embeddings.ann')"
   ]
  },
  {
   "cell_type": "code",
   "execution_count": 26,
   "id": "d5cbc6aa",
   "metadata": {
    "execution": {
     "iopub.execute_input": "2024-06-28T10:09:15.720278Z",
     "iopub.status.busy": "2024-06-28T10:09:15.719598Z",
     "iopub.status.idle": "2024-06-28T10:09:15.729882Z",
     "shell.execute_reply": "2024-06-28T10:09:15.728137Z"
    },
    "papermill": {
     "duration": 0.064214,
     "end_time": "2024-06-28T10:09:15.734040",
     "exception": false,
     "start_time": "2024-06-28T10:09:15.669826",
     "status": "completed"
    },
    "tags": []
   },
   "outputs": [],
   "source": [
    "query_word = \"statistics\"\n",
    "n = 10\n",
    "v = word_vectors[query_word]\n",
    "res_inds = u.get_nns_by_vector(v, n, search_k=-1, include_distances=True)\n",
    "item_indexes, distances = res_inds"
   ]
  },
  {
   "cell_type": "code",
   "execution_count": 27,
   "id": "f5f710a9",
   "metadata": {
    "execution": {
     "iopub.execute_input": "2024-06-28T10:09:15.833017Z",
     "iopub.status.busy": "2024-06-28T10:09:15.831255Z",
     "iopub.status.idle": "2024-06-28T10:09:15.843474Z",
     "shell.execute_reply": "2024-06-28T10:09:15.841454Z"
    },
    "papermill": {
     "duration": 0.072686,
     "end_time": "2024-06-28T10:09:15.846649",
     "exception": false,
     "start_time": "2024-06-28T10:09:15.773963",
     "status": "completed"
    },
    "tags": []
   },
   "outputs": [
    {
     "name": "stdout",
     "output_type": "stream",
     "text": [
      "Words similar to query_word:  statistics\n",
      "----------\n",
      "word:  statistics  is at a distance of:  0.0  or similarity of:  1.0\n",
      "word:  stats  is at a distance of:  0.637666642665863  or similarity of:  0.36233335733413696\n",
      "word:  data  is at a distance of:  0.8113470673561096  or similarity of:  0.18865293264389038\n",
      "word:  stat  is at a distance of:  0.854632556438446  or similarity of:  0.14536744356155396\n",
      "word:  figures  is at a distance of:  0.8640503287315369  or similarity of:  0.13594967126846313\n",
      "word:  percentages  is at a distance of:  0.8983590006828308  or similarity of:  0.10164099931716919\n",
      "word:  numbers  is at a distance of:  0.9014903903007507  or similarity of:  0.09850960969924927\n",
      "word:  totals  is at a distance of:  0.9024370908737183  or similarity of:  0.09756290912628174\n",
      "word:  demographics  is at a distance of:  0.9026355743408203  or similarity of:  0.09736442565917969\n",
      "word:  averages  is at a distance of:  0.9271734356880188  or similarity of:  0.0728265643119812\n"
     ]
    }
   ],
   "source": [
    "print(\"Words similar to query_word: \", query_word)\n",
    "print(\"----------\")\n",
    "for i in range(len(item_indexes)):\n",
    "    idx = item_indexes[i]\n",
    "    print(\"word: \", index_to_word[idx], \" is at a distance of: \", distances[i], \" or similarity of: \", 1-distances[i])"
   ]
  }
 ],
 "metadata": {
  "kaggle": {
   "accelerator": "none",
   "dataSources": [],
   "dockerImageVersionId": 30732,
   "isGpuEnabled": false,
   "isInternetEnabled": true,
   "language": "python",
   "sourceType": "notebook"
  },
  "kernelspec": {
   "display_name": "Python 3",
   "language": "python",
   "name": "python3"
  },
  "language_info": {
   "codemirror_mode": {
    "name": "ipython",
    "version": 3
   },
   "file_extension": ".py",
   "mimetype": "text/x-python",
   "name": "python",
   "nbconvert_exporter": "python",
   "pygments_lexer": "ipython3",
   "version": "3.10.13"
  },
  "papermill": {
   "default_parameters": {},
   "duration": 595.542147,
   "end_time": "2024-06-28T10:09:19.522024",
   "environment_variables": {},
   "exception": null,
   "input_path": "__notebook__.ipynb",
   "output_path": "__notebook__.ipynb",
   "parameters": {},
   "start_time": "2024-06-28T09:59:23.979877",
   "version": "2.5.0"
  }
 },
 "nbformat": 4,
 "nbformat_minor": 5
}
