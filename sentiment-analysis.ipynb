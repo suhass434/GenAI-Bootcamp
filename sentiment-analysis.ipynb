{
 "cells": [
  {
   "cell_type": "code",
   "execution_count": 1,
   "id": "47ac8307",
   "metadata": {
    "execution": {
     "iopub.execute_input": "2024-06-27T16:25:14.809519Z",
     "iopub.status.busy": "2024-06-27T16:25:14.808948Z",
     "iopub.status.idle": "2024-06-27T16:25:28.086302Z",
     "shell.execute_reply": "2024-06-27T16:25:28.085401Z"
    },
    "papermill": {
     "duration": 13.288341,
     "end_time": "2024-06-27T16:25:28.088586",
     "exception": false,
     "start_time": "2024-06-27T16:25:14.800245",
     "status": "completed"
    },
    "tags": []
   },
   "outputs": [
    {
     "name": "stdout",
     "output_type": "stream",
     "text": [
      "Requirement already satisfied: gensim in /opt/conda/lib/python3.10/site-packages (4.3.2)\r\n",
      "Requirement already satisfied: numpy>=1.18.5 in /opt/conda/lib/python3.10/site-packages (from gensim) (1.26.4)\r\n",
      "Requirement already satisfied: scipy>=1.7.0 in /opt/conda/lib/python3.10/site-packages (from gensim) (1.11.4)\r\n",
      "Requirement already satisfied: smart-open>=1.8.1 in /opt/conda/lib/python3.10/site-packages (from gensim) (6.4.0)\r\n"
     ]
    }
   ],
   "source": [
    "!pip install gensim"
   ]
  },
  {
   "cell_type": "code",
   "execution_count": 2,
   "id": "ad18a6ba",
   "metadata": {
    "_cell_guid": "b1076dfc-b9ad-4769-8c92-a6c4dae69d19",
    "_uuid": "8f2839f25d086af736a60e9eeb907d3b93b6e0e5",
    "execution": {
     "iopub.execute_input": "2024-06-27T16:25:28.104204Z",
     "iopub.status.busy": "2024-06-27T16:25:28.103905Z",
     "iopub.status.idle": "2024-06-27T16:25:30.569361Z",
     "shell.execute_reply": "2024-06-27T16:25:30.568599Z"
    },
    "papermill": {
     "duration": 2.475753,
     "end_time": "2024-06-27T16:25:30.571635",
     "exception": false,
     "start_time": "2024-06-27T16:25:28.095882",
     "status": "completed"
    },
    "tags": []
   },
   "outputs": [],
   "source": [
    "import nltk\n",
    "import numpy as np\n",
    "import pandas as pd\n",
    "from nltk.tokenize import word_tokenize\n",
    "from sklearn.linear_model import LogisticRegression\n",
    "from sklearn.ensemble import RandomForestClassifier\n",
    "from sklearn.metrics import accuracy_score, precision_score, recall_score, roc_curve, auc\n",
    "import matplotlib.pyplot as plt"
   ]
  },
  {
   "cell_type": "code",
   "execution_count": 3,
   "id": "ba59a085",
   "metadata": {
    "execution": {
     "iopub.execute_input": "2024-06-27T16:25:30.586936Z",
     "iopub.status.busy": "2024-06-27T16:25:30.586538Z",
     "iopub.status.idle": "2024-06-27T16:26:13.769113Z",
     "shell.execute_reply": "2024-06-27T16:26:13.768168Z"
    },
    "papermill": {
     "duration": 43.192483,
     "end_time": "2024-06-27T16:26:13.771350",
     "exception": false,
     "start_time": "2024-06-27T16:25:30.578867",
     "status": "completed"
    },
    "tags": []
   },
   "outputs": [
    {
     "name": "stdout",
     "output_type": "stream",
     "text": [
      "[==================================================] 100.0% 66.0/66.0MB downloaded\n"
     ]
    }
   ],
   "source": [
    "import gensim.downloader as api\n",
    "\n",
    "glove_model = api.load(\"glove-wiki-gigaword-50\")"
   ]
  },
  {
   "cell_type": "code",
   "execution_count": 4,
   "id": "18f4b0a2",
   "metadata": {
    "execution": {
     "iopub.execute_input": "2024-06-27T16:26:15.165132Z",
     "iopub.status.busy": "2024-06-27T16:26:15.164782Z",
     "iopub.status.idle": "2024-06-27T16:26:16.978187Z",
     "shell.execute_reply": "2024-06-27T16:26:16.977281Z"
    },
    "papermill": {
     "duration": 2.499231,
     "end_time": "2024-06-27T16:26:16.980674",
     "exception": false,
     "start_time": "2024-06-27T16:26:14.481443",
     "status": "completed"
    },
    "tags": []
   },
   "outputs": [
    {
     "name": "stdout",
     "output_type": "stream",
     "text": [
      "Dataset URL: https://www.kaggle.com/datasets/ahmedabdulhamid/reviews-dataset\r\n",
      "License(s): unknown\r\n",
      "Downloading reviews-dataset.zip to /kaggle/working\r\n",
      "  0%|                                               | 0.00/3.90M [00:00<?, ?B/s]\r\n",
      "100%|███████████████████████████████████████| 3.90M/3.90M [00:00<00:00, 225MB/s]\r\n"
     ]
    }
   ],
   "source": [
    "!kaggle datasets download -d ahmedabdulhamid/reviews-dataset"
   ]
  },
  {
   "cell_type": "code",
   "execution_count": 5,
   "id": "c232acfa",
   "metadata": {
    "execution": {
     "iopub.execute_input": "2024-06-27T16:26:18.353212Z",
     "iopub.status.busy": "2024-06-27T16:26:18.352455Z",
     "iopub.status.idle": "2024-06-27T16:26:19.419361Z",
     "shell.execute_reply": "2024-06-27T16:26:19.417851Z"
    },
    "papermill": {
     "duration": 1.730499,
     "end_time": "2024-06-27T16:26:19.422489",
     "exception": false,
     "start_time": "2024-06-27T16:26:17.691990",
     "status": "completed"
    },
    "tags": []
   },
   "outputs": [
    {
     "name": "stdout",
     "output_type": "stream",
     "text": [
      "Archive:  reviews-dataset.zip\r\n",
      "  inflating: TestReviews.csv         \r\n",
      "  inflating: TrainingDataNegative.txt  \r\n",
      "  inflating: TrainingDataPositive.txt  \r\n"
     ]
    }
   ],
   "source": [
    "!unzip 'reviews-dataset.zip'"
   ]
  },
  {
   "cell_type": "code",
   "execution_count": 6,
   "id": "820bd2d5",
   "metadata": {
    "execution": {
     "iopub.execute_input": "2024-06-27T16:26:20.797848Z",
     "iopub.status.busy": "2024-06-27T16:26:20.797028Z",
     "iopub.status.idle": "2024-06-27T16:26:20.818532Z",
     "shell.execute_reply": "2024-06-27T16:26:20.817836Z"
    },
    "papermill": {
     "duration": 0.700977,
     "end_time": "2024-06-27T16:26:20.820406",
     "exception": false,
     "start_time": "2024-06-27T16:26:20.119429",
     "status": "completed"
    },
    "tags": []
   },
   "outputs": [],
   "source": [
    "with open('TrainingDataNegative.txt','r',encoding = 'utf-8') as file:\n",
    "    Negetive = file.readlines()\n",
    "with open('TrainingDataPositive.txt','r',encoding = 'utf-8') as file:\n",
    "    Positive = file.readlines()"
   ]
  },
  {
   "cell_type": "code",
   "execution_count": 7,
   "id": "0a30e80f",
   "metadata": {
    "execution": {
     "iopub.execute_input": "2024-06-27T16:26:22.211131Z",
     "iopub.status.busy": "2024-06-27T16:26:22.210255Z",
     "iopub.status.idle": "2024-06-27T16:26:22.228382Z",
     "shell.execute_reply": "2024-06-27T16:26:22.227657Z"
    },
    "papermill": {
     "duration": 0.712708,
     "end_time": "2024-06-27T16:26:22.230432",
     "exception": false,
     "start_time": "2024-06-27T16:26:21.517724",
     "status": "completed"
    },
    "tags": []
   },
   "outputs": [],
   "source": [
    "Negetive_df = pd.DataFrame({'review':[review.strip() for review in Negetive]})\n",
    "Positive_df = pd.DataFrame({'review':[review.strip() for review in Positive]})"
   ]
  },
  {
   "cell_type": "code",
   "execution_count": 8,
   "id": "61862e98",
   "metadata": {
    "execution": {
     "iopub.execute_input": "2024-06-27T16:26:23.597937Z",
     "iopub.status.busy": "2024-06-27T16:26:23.597619Z",
     "iopub.status.idle": "2024-06-27T16:26:23.642234Z",
     "shell.execute_reply": "2024-06-27T16:26:23.641189Z"
    },
    "papermill": {
     "duration": 0.711378,
     "end_time": "2024-06-27T16:26:23.644777",
     "exception": false,
     "start_time": "2024-06-27T16:26:22.933399",
     "status": "completed"
    },
    "tags": []
   },
   "outputs": [],
   "source": [
    "test_data = pd.read_csv('TestReviews.csv')"
   ]
  },
  {
   "cell_type": "code",
   "execution_count": 9,
   "id": "6ebafd6d",
   "metadata": {
    "execution": {
     "iopub.execute_input": "2024-06-27T16:26:25.012109Z",
     "iopub.status.busy": "2024-06-27T16:26:25.011766Z",
     "iopub.status.idle": "2024-06-27T16:26:25.030508Z",
     "shell.execute_reply": "2024-06-27T16:26:25.029639Z"
    },
    "papermill": {
     "duration": 0.727952,
     "end_time": "2024-06-27T16:26:25.032489",
     "exception": false,
     "start_time": "2024-06-27T16:26:24.304537",
     "status": "completed"
    },
    "tags": []
   },
   "outputs": [
    {
     "data": {
      "text/html": [
       "<div>\n",
       "<style scoped>\n",
       "    .dataframe tbody tr th:only-of-type {\n",
       "        vertical-align: middle;\n",
       "    }\n",
       "\n",
       "    .dataframe tbody tr th {\n",
       "        vertical-align: top;\n",
       "    }\n",
       "\n",
       "    .dataframe thead th {\n",
       "        text-align: right;\n",
       "    }\n",
       "</style>\n",
       "<table border=\"1\" class=\"dataframe\">\n",
       "  <thead>\n",
       "    <tr style=\"text-align: right;\">\n",
       "      <th></th>\n",
       "      <th>review</th>\n",
       "      <th>class</th>\n",
       "    </tr>\n",
       "  </thead>\n",
       "  <tbody>\n",
       "    <tr>\n",
       "      <th>0</th>\n",
       "      <td>Fantastic spot for an even or a quite cocktail...</td>\n",
       "      <td>1</td>\n",
       "    </tr>\n",
       "    <tr>\n",
       "      <th>1</th>\n",
       "      <td>Love, love, love the calamari. It's so good an...</td>\n",
       "      <td>1</td>\n",
       "    </tr>\n",
       "    <tr>\n",
       "      <th>2</th>\n",
       "      <td>Love this place. Stiff martinis and cocktails,...</td>\n",
       "      <td>1</td>\n",
       "    </tr>\n",
       "    <tr>\n",
       "      <th>3</th>\n",
       "      <td>It's everything a great cocktail bar should be...</td>\n",
       "      <td>1</td>\n",
       "    </tr>\n",
       "    <tr>\n",
       "      <th>4</th>\n",
       "      <td>I came here before a pirates game, so it was a...</td>\n",
       "      <td>1</td>\n",
       "    </tr>\n",
       "  </tbody>\n",
       "</table>\n",
       "</div>"
      ],
      "text/plain": [
       "                                              review  class\n",
       "0  Fantastic spot for an even or a quite cocktail...      1\n",
       "1  Love, love, love the calamari. It's so good an...      1\n",
       "2  Love this place. Stiff martinis and cocktails,...      1\n",
       "3  It's everything a great cocktail bar should be...      1\n",
       "4  I came here before a pirates game, so it was a...      1"
      ]
     },
     "execution_count": 9,
     "metadata": {},
     "output_type": "execute_result"
    }
   ],
   "source": [
    "test_data.head()"
   ]
  },
  {
   "cell_type": "code",
   "execution_count": 10,
   "id": "4fe172b9",
   "metadata": {
    "execution": {
     "iopub.execute_input": "2024-06-27T16:26:26.349944Z",
     "iopub.status.busy": "2024-06-27T16:26:26.349582Z",
     "iopub.status.idle": "2024-06-27T16:26:26.355563Z",
     "shell.execute_reply": "2024-06-27T16:26:26.354733Z"
    },
    "papermill": {
     "duration": 0.663463,
     "end_time": "2024-06-27T16:26:26.357602",
     "exception": false,
     "start_time": "2024-06-27T16:26:25.694139",
     "status": "completed"
    },
    "tags": []
   },
   "outputs": [],
   "source": [
    "Negetive_df['sentiment'] = \"negetive\"\n",
    "Positive_df['sentiment'] = \"positive\""
   ]
  },
  {
   "cell_type": "code",
   "execution_count": 11,
   "id": "e29f64c8",
   "metadata": {
    "execution": {
     "iopub.execute_input": "2024-06-27T16:26:27.730447Z",
     "iopub.status.busy": "2024-06-27T16:26:27.730096Z",
     "iopub.status.idle": "2024-06-27T16:26:27.735917Z",
     "shell.execute_reply": "2024-06-27T16:26:27.735060Z"
    },
    "papermill": {
     "duration": 0.679608,
     "end_time": "2024-06-27T16:26:27.737731",
     "exception": false,
     "start_time": "2024-06-27T16:26:27.058123",
     "status": "completed"
    },
    "tags": []
   },
   "outputs": [],
   "source": [
    "train_data = pd.concat([Negetive_df,Positive_df],ignore_index = True)"
   ]
  },
  {
   "cell_type": "code",
   "execution_count": 12,
   "id": "75d66ae2",
   "metadata": {
    "execution": {
     "iopub.execute_input": "2024-06-27T16:26:29.091210Z",
     "iopub.status.busy": "2024-06-27T16:26:29.090361Z",
     "iopub.status.idle": "2024-06-27T16:26:54.497000Z",
     "shell.execute_reply": "2024-06-27T16:26:54.496067Z"
    },
    "papermill": {
     "duration": 26.106645,
     "end_time": "2024-06-27T16:26:54.499236",
     "exception": false,
     "start_time": "2024-06-27T16:26:28.392591",
     "status": "completed"
    },
    "tags": []
   },
   "outputs": [],
   "source": [
    "train_data['Tokens'] = train_data['review'].apply(word_tokenize)\n",
    "test_data['Tokens'] = test_data['review'].apply(word_tokenize)"
   ]
  },
  {
   "cell_type": "code",
   "execution_count": 13,
   "id": "a93114d0",
   "metadata": {
    "execution": {
     "iopub.execute_input": "2024-06-27T16:26:55.858970Z",
     "iopub.status.busy": "2024-06-27T16:26:55.858549Z",
     "iopub.status.idle": "2024-06-27T16:26:55.866385Z",
     "shell.execute_reply": "2024-06-27T16:26:55.865483Z"
    },
    "papermill": {
     "duration": 0.714813,
     "end_time": "2024-06-27T16:26:55.868483",
     "exception": false,
     "start_time": "2024-06-27T16:26:55.153670",
     "status": "completed"
    },
    "tags": []
   },
   "outputs": [],
   "source": [
    "test_data['sentiment'] = test_data['class'].apply(lambda x: 'positive' if x == 1 else 'negative')"
   ]
  },
  {
   "cell_type": "code",
   "execution_count": 14,
   "id": "97f9e0d2",
   "metadata": {
    "execution": {
     "iopub.execute_input": "2024-06-27T16:26:57.180325Z",
     "iopub.status.busy": "2024-06-27T16:26:57.179683Z",
     "iopub.status.idle": "2024-06-27T16:26:57.195489Z",
     "shell.execute_reply": "2024-06-27T16:26:57.194673Z"
    },
    "papermill": {
     "duration": 0.667565,
     "end_time": "2024-06-27T16:26:57.197397",
     "exception": false,
     "start_time": "2024-06-27T16:26:56.529832",
     "status": "completed"
    },
    "tags": []
   },
   "outputs": [
    {
     "data": {
      "text/html": [
       "<div>\n",
       "<style scoped>\n",
       "    .dataframe tbody tr th:only-of-type {\n",
       "        vertical-align: middle;\n",
       "    }\n",
       "\n",
       "    .dataframe tbody tr th {\n",
       "        vertical-align: top;\n",
       "    }\n",
       "\n",
       "    .dataframe thead th {\n",
       "        text-align: right;\n",
       "    }\n",
       "</style>\n",
       "<table border=\"1\" class=\"dataframe\">\n",
       "  <thead>\n",
       "    <tr style=\"text-align: right;\">\n",
       "      <th></th>\n",
       "      <th>review</th>\n",
       "      <th>sentiment</th>\n",
       "      <th>Tokens</th>\n",
       "    </tr>\n",
       "  </thead>\n",
       "  <tbody>\n",
       "    <tr>\n",
       "      <th>0</th>\n",
       "      <td>Perhaps good product, but really poor service....</td>\n",
       "      <td>negetive</td>\n",
       "      <td>[Perhaps, good, product, ,, but, really, poor,...</td>\n",
       "    </tr>\n",
       "    <tr>\n",
       "      <th>1</th>\n",
       "      <td>Been going here for specialty boat items for 1...</td>\n",
       "      <td>negetive</td>\n",
       "      <td>[Been, going, here, for, specialty, boat, item...</td>\n",
       "    </tr>\n",
       "    <tr>\n",
       "      <th>2</th>\n",
       "      <td>This place was a joke we rented 1 jet ski and ...</td>\n",
       "      <td>negetive</td>\n",
       "      <td>[This, place, was, a, joke, we, rented, 1, jet...</td>\n",
       "    </tr>\n",
       "    <tr>\n",
       "      <th>3</th>\n",
       "      <td>We were out at the lake this weekend boating a...</td>\n",
       "      <td>negetive</td>\n",
       "      <td>[We, were, out, at, the, lake, this, weekend, ...</td>\n",
       "    </tr>\n",
       "    <tr>\n",
       "      <th>4</th>\n",
       "      <td>JET ACTION RENTALS destroyed my view on small ...</td>\n",
       "      <td>negetive</td>\n",
       "      <td>[JET, ACTION, RENTALS, destroyed, my, view, on...</td>\n",
       "    </tr>\n",
       "  </tbody>\n",
       "</table>\n",
       "</div>"
      ],
      "text/plain": [
       "                                              review sentiment  \\\n",
       "0  Perhaps good product, but really poor service....  negetive   \n",
       "1  Been going here for specialty boat items for 1...  negetive   \n",
       "2  This place was a joke we rented 1 jet ski and ...  negetive   \n",
       "3  We were out at the lake this weekend boating a...  negetive   \n",
       "4  JET ACTION RENTALS destroyed my view on small ...  negetive   \n",
       "\n",
       "                                              Tokens  \n",
       "0  [Perhaps, good, product, ,, but, really, poor,...  \n",
       "1  [Been, going, here, for, specialty, boat, item...  \n",
       "2  [This, place, was, a, joke, we, rented, 1, jet...  \n",
       "3  [We, were, out, at, the, lake, this, weekend, ...  \n",
       "4  [JET, ACTION, RENTALS, destroyed, my, view, on...  "
      ]
     },
     "execution_count": 14,
     "metadata": {},
     "output_type": "execute_result"
    }
   ],
   "source": [
    "train_data.head()"
   ]
  },
  {
   "cell_type": "code",
   "execution_count": 15,
   "id": "619648db",
   "metadata": {
    "execution": {
     "iopub.execute_input": "2024-06-27T16:26:58.555968Z",
     "iopub.status.busy": "2024-06-27T16:26:58.555188Z",
     "iopub.status.idle": "2024-06-27T16:26:58.569447Z",
     "shell.execute_reply": "2024-06-27T16:26:58.568649Z"
    },
    "papermill": {
     "duration": 0.716629,
     "end_time": "2024-06-27T16:26:58.571283",
     "exception": false,
     "start_time": "2024-06-27T16:26:57.854654",
     "status": "completed"
    },
    "tags": []
   },
   "outputs": [
    {
     "data": {
      "text/html": [
       "<div>\n",
       "<style scoped>\n",
       "    .dataframe tbody tr th:only-of-type {\n",
       "        vertical-align: middle;\n",
       "    }\n",
       "\n",
       "    .dataframe tbody tr th {\n",
       "        vertical-align: top;\n",
       "    }\n",
       "\n",
       "    .dataframe thead th {\n",
       "        text-align: right;\n",
       "    }\n",
       "</style>\n",
       "<table border=\"1\" class=\"dataframe\">\n",
       "  <thead>\n",
       "    <tr style=\"text-align: right;\">\n",
       "      <th></th>\n",
       "      <th>review</th>\n",
       "      <th>class</th>\n",
       "      <th>Tokens</th>\n",
       "      <th>sentiment</th>\n",
       "    </tr>\n",
       "  </thead>\n",
       "  <tbody>\n",
       "    <tr>\n",
       "      <th>0</th>\n",
       "      <td>Fantastic spot for an even or a quite cocktail...</td>\n",
       "      <td>1</td>\n",
       "      <td>[Fantastic, spot, for, an, even, or, a, quite,...</td>\n",
       "      <td>positive</td>\n",
       "    </tr>\n",
       "    <tr>\n",
       "      <th>1</th>\n",
       "      <td>Love, love, love the calamari. It's so good an...</td>\n",
       "      <td>1</td>\n",
       "      <td>[Love, ,, love, ,, love, the, calamari, ., It,...</td>\n",
       "      <td>positive</td>\n",
       "    </tr>\n",
       "    <tr>\n",
       "      <th>2</th>\n",
       "      <td>Love this place. Stiff martinis and cocktails,...</td>\n",
       "      <td>1</td>\n",
       "      <td>[Love, this, place, ., Stiff, martinis, and, c...</td>\n",
       "      <td>positive</td>\n",
       "    </tr>\n",
       "    <tr>\n",
       "      <th>3</th>\n",
       "      <td>It's everything a great cocktail bar should be...</td>\n",
       "      <td>1</td>\n",
       "      <td>[It, 's, everything, a, great, cocktail, bar, ...</td>\n",
       "      <td>positive</td>\n",
       "    </tr>\n",
       "    <tr>\n",
       "      <th>4</th>\n",
       "      <td>I came here before a pirates game, so it was a...</td>\n",
       "      <td>1</td>\n",
       "      <td>[I, came, here, before, a, pirates, game, ,, s...</td>\n",
       "      <td>positive</td>\n",
       "    </tr>\n",
       "  </tbody>\n",
       "</table>\n",
       "</div>"
      ],
      "text/plain": [
       "                                              review  class  \\\n",
       "0  Fantastic spot for an even or a quite cocktail...      1   \n",
       "1  Love, love, love the calamari. It's so good an...      1   \n",
       "2  Love this place. Stiff martinis and cocktails,...      1   \n",
       "3  It's everything a great cocktail bar should be...      1   \n",
       "4  I came here before a pirates game, so it was a...      1   \n",
       "\n",
       "                                              Tokens sentiment  \n",
       "0  [Fantastic, spot, for, an, even, or, a, quite,...  positive  \n",
       "1  [Love, ,, love, ,, love, the, calamari, ., It,...  positive  \n",
       "2  [Love, this, place, ., Stiff, martinis, and, c...  positive  \n",
       "3  [It, 's, everything, a, great, cocktail, bar, ...  positive  \n",
       "4  [I, came, here, before, a, pirates, game, ,, s...  positive  "
      ]
     },
     "execution_count": 15,
     "metadata": {},
     "output_type": "execute_result"
    }
   ],
   "source": [
    "test_data.head()"
   ]
  },
  {
   "cell_type": "code",
   "execution_count": 16,
   "id": "d5bdac83",
   "metadata": {
    "execution": {
     "iopub.execute_input": "2024-06-27T16:26:59.953155Z",
     "iopub.status.busy": "2024-06-27T16:26:59.952530Z",
     "iopub.status.idle": "2024-06-27T16:26:59.957483Z",
     "shell.execute_reply": "2024-06-27T16:26:59.956653Z"
    },
    "papermill": {
     "duration": 0.717303,
     "end_time": "2024-06-27T16:26:59.959300",
     "exception": false,
     "start_time": "2024-06-27T16:26:59.241997",
     "status": "completed"
    },
    "tags": []
   },
   "outputs": [],
   "source": [
    "def get_avg_embedding(tokens):\n",
    "    embeddings = [glove_model[word] for word in tokens if word in glove_model]\n",
    "    return np.mean(embeddings, axis=0) if embeddings else np.zeros(glove_model.vector_size)\n"
   ]
  },
  {
   "cell_type": "code",
   "execution_count": 17,
   "id": "f0f495fb",
   "metadata": {
    "execution": {
     "iopub.execute_input": "2024-06-27T16:27:01.276499Z",
     "iopub.status.busy": "2024-06-27T16:27:01.275690Z",
     "iopub.status.idle": "2024-06-27T16:27:08.026955Z",
     "shell.execute_reply": "2024-06-27T16:27:08.025969Z"
    },
    "papermill": {
     "duration": 7.409579,
     "end_time": "2024-06-27T16:27:08.029285",
     "exception": false,
     "start_time": "2024-06-27T16:27:00.619706",
     "status": "completed"
    },
    "tags": []
   },
   "outputs": [],
   "source": [
    "train_data['embeddings'] = train_data['Tokens'].apply(get_avg_embedding)\n",
    "test_data['embeddings'] = test_data['Tokens'].apply(get_avg_embedding)"
   ]
  },
  {
   "cell_type": "code",
   "execution_count": 18,
   "id": "bb3ce25a",
   "metadata": {
    "execution": {
     "iopub.execute_input": "2024-06-27T16:27:09.438903Z",
     "iopub.status.busy": "2024-06-27T16:27:09.438493Z",
     "iopub.status.idle": "2024-06-27T16:27:09.458829Z",
     "shell.execute_reply": "2024-06-27T16:27:09.457834Z"
    },
    "papermill": {
     "duration": 0.733397,
     "end_time": "2024-06-27T16:27:09.460912",
     "exception": false,
     "start_time": "2024-06-27T16:27:08.727515",
     "status": "completed"
    },
    "tags": []
   },
   "outputs": [
    {
     "data": {
      "text/html": [
       "<div>\n",
       "<style scoped>\n",
       "    .dataframe tbody tr th:only-of-type {\n",
       "        vertical-align: middle;\n",
       "    }\n",
       "\n",
       "    .dataframe tbody tr th {\n",
       "        vertical-align: top;\n",
       "    }\n",
       "\n",
       "    .dataframe thead th {\n",
       "        text-align: right;\n",
       "    }\n",
       "</style>\n",
       "<table border=\"1\" class=\"dataframe\">\n",
       "  <thead>\n",
       "    <tr style=\"text-align: right;\">\n",
       "      <th></th>\n",
       "      <th>review</th>\n",
       "      <th>class</th>\n",
       "      <th>Tokens</th>\n",
       "      <th>sentiment</th>\n",
       "      <th>embeddings</th>\n",
       "    </tr>\n",
       "  </thead>\n",
       "  <tbody>\n",
       "    <tr>\n",
       "      <th>0</th>\n",
       "      <td>Fantastic spot for an even or a quite cocktail...</td>\n",
       "      <td>1</td>\n",
       "      <td>[Fantastic, spot, for, an, even, or, a, quite,...</td>\n",
       "      <td>positive</td>\n",
       "      <td>[0.26556075, 0.1369994, -0.17053388, -0.034029...</td>\n",
       "    </tr>\n",
       "    <tr>\n",
       "      <th>1</th>\n",
       "      <td>Love, love, love the calamari. It's so good an...</td>\n",
       "      <td>1</td>\n",
       "      <td>[Love, ,, love, ,, love, the, calamari, ., It,...</td>\n",
       "      <td>positive</td>\n",
       "      <td>[0.22409707, 0.2975156, -0.29148984, 0.0693331...</td>\n",
       "    </tr>\n",
       "    <tr>\n",
       "      <th>2</th>\n",
       "      <td>Love this place. Stiff martinis and cocktails,...</td>\n",
       "      <td>1</td>\n",
       "      <td>[Love, this, place, ., Stiff, martinis, and, c...</td>\n",
       "      <td>positive</td>\n",
       "      <td>[0.14470643, 0.220986, -0.18872727, -0.1710596...</td>\n",
       "    </tr>\n",
       "    <tr>\n",
       "      <th>3</th>\n",
       "      <td>It's everything a great cocktail bar should be...</td>\n",
       "      <td>1</td>\n",
       "      <td>[It, 's, everything, a, great, cocktail, bar, ...</td>\n",
       "      <td>positive</td>\n",
       "      <td>[0.22715268, 0.28385925, -0.21918082, 0.022998...</td>\n",
       "    </tr>\n",
       "    <tr>\n",
       "      <th>4</th>\n",
       "      <td>I came here before a pirates game, so it was a...</td>\n",
       "      <td>1</td>\n",
       "      <td>[I, came, here, before, a, pirates, game, ,, s...</td>\n",
       "      <td>positive</td>\n",
       "      <td>[0.22998813, 0.09950722, -0.21259621, -0.05042...</td>\n",
       "    </tr>\n",
       "  </tbody>\n",
       "</table>\n",
       "</div>"
      ],
      "text/plain": [
       "                                              review  class  \\\n",
       "0  Fantastic spot for an even or a quite cocktail...      1   \n",
       "1  Love, love, love the calamari. It's so good an...      1   \n",
       "2  Love this place. Stiff martinis and cocktails,...      1   \n",
       "3  It's everything a great cocktail bar should be...      1   \n",
       "4  I came here before a pirates game, so it was a...      1   \n",
       "\n",
       "                                              Tokens sentiment  \\\n",
       "0  [Fantastic, spot, for, an, even, or, a, quite,...  positive   \n",
       "1  [Love, ,, love, ,, love, the, calamari, ., It,...  positive   \n",
       "2  [Love, this, place, ., Stiff, martinis, and, c...  positive   \n",
       "3  [It, 's, everything, a, great, cocktail, bar, ...  positive   \n",
       "4  [I, came, here, before, a, pirates, game, ,, s...  positive   \n",
       "\n",
       "                                          embeddings  \n",
       "0  [0.26556075, 0.1369994, -0.17053388, -0.034029...  \n",
       "1  [0.22409707, 0.2975156, -0.29148984, 0.0693331...  \n",
       "2  [0.14470643, 0.220986, -0.18872727, -0.1710596...  \n",
       "3  [0.22715268, 0.28385925, -0.21918082, 0.022998...  \n",
       "4  [0.22998813, 0.09950722, -0.21259621, -0.05042...  "
      ]
     },
     "execution_count": 18,
     "metadata": {},
     "output_type": "execute_result"
    }
   ],
   "source": [
    "test_data.head()"
   ]
  },
  {
   "cell_type": "code",
   "execution_count": 19,
   "id": "141aedf0",
   "metadata": {
    "execution": {
     "iopub.execute_input": "2024-06-27T16:27:10.858823Z",
     "iopub.status.busy": "2024-06-27T16:27:10.858438Z",
     "iopub.status.idle": "2024-06-27T16:27:10.878592Z",
     "shell.execute_reply": "2024-06-27T16:27:10.877751Z"
    },
    "papermill": {
     "duration": 0.720158,
     "end_time": "2024-06-27T16:27:10.880391",
     "exception": false,
     "start_time": "2024-06-27T16:27:10.160233",
     "status": "completed"
    },
    "tags": []
   },
   "outputs": [
    {
     "data": {
      "text/html": [
       "<div>\n",
       "<style scoped>\n",
       "    .dataframe tbody tr th:only-of-type {\n",
       "        vertical-align: middle;\n",
       "    }\n",
       "\n",
       "    .dataframe tbody tr th {\n",
       "        vertical-align: top;\n",
       "    }\n",
       "\n",
       "    .dataframe thead th {\n",
       "        text-align: right;\n",
       "    }\n",
       "</style>\n",
       "<table border=\"1\" class=\"dataframe\">\n",
       "  <thead>\n",
       "    <tr style=\"text-align: right;\">\n",
       "      <th></th>\n",
       "      <th>review</th>\n",
       "      <th>sentiment</th>\n",
       "      <th>Tokens</th>\n",
       "      <th>embeddings</th>\n",
       "    </tr>\n",
       "  </thead>\n",
       "  <tbody>\n",
       "    <tr>\n",
       "      <th>0</th>\n",
       "      <td>Perhaps good product, but really poor service....</td>\n",
       "      <td>negetive</td>\n",
       "      <td>[Perhaps, good, product, ,, but, really, poor,...</td>\n",
       "      <td>[0.2926184, 0.1265644, 0.038128715, -0.1099310...</td>\n",
       "    </tr>\n",
       "    <tr>\n",
       "      <th>1</th>\n",
       "      <td>Been going here for specialty boat items for 1...</td>\n",
       "      <td>negetive</td>\n",
       "      <td>[Been, going, here, for, specialty, boat, item...</td>\n",
       "      <td>[0.19120462, 0.19396187, -0.041443802, -0.1012...</td>\n",
       "    </tr>\n",
       "    <tr>\n",
       "      <th>2</th>\n",
       "      <td>This place was a joke we rented 1 jet ski and ...</td>\n",
       "      <td>negetive</td>\n",
       "      <td>[This, place, was, a, joke, we, rented, 1, jet...</td>\n",
       "      <td>[0.26337358, 0.07481212, 0.045919683, -0.14281...</td>\n",
       "    </tr>\n",
       "    <tr>\n",
       "      <th>3</th>\n",
       "      <td>We were out at the lake this weekend boating a...</td>\n",
       "      <td>negetive</td>\n",
       "      <td>[We, were, out, at, the, lake, this, weekend, ...</td>\n",
       "      <td>[0.3768471, 0.14824079, -0.08772879, -0.123735...</td>\n",
       "    </tr>\n",
       "    <tr>\n",
       "      <th>4</th>\n",
       "      <td>JET ACTION RENTALS destroyed my view on small ...</td>\n",
       "      <td>negetive</td>\n",
       "      <td>[JET, ACTION, RENTALS, destroyed, my, view, on...</td>\n",
       "      <td>[0.3074227, 0.13519254, 0.047113672, -0.129043...</td>\n",
       "    </tr>\n",
       "  </tbody>\n",
       "</table>\n",
       "</div>"
      ],
      "text/plain": [
       "                                              review sentiment  \\\n",
       "0  Perhaps good product, but really poor service....  negetive   \n",
       "1  Been going here for specialty boat items for 1...  negetive   \n",
       "2  This place was a joke we rented 1 jet ski and ...  negetive   \n",
       "3  We were out at the lake this weekend boating a...  negetive   \n",
       "4  JET ACTION RENTALS destroyed my view on small ...  negetive   \n",
       "\n",
       "                                              Tokens  \\\n",
       "0  [Perhaps, good, product, ,, but, really, poor,...   \n",
       "1  [Been, going, here, for, specialty, boat, item...   \n",
       "2  [This, place, was, a, joke, we, rented, 1, jet...   \n",
       "3  [We, were, out, at, the, lake, this, weekend, ...   \n",
       "4  [JET, ACTION, RENTALS, destroyed, my, view, on...   \n",
       "\n",
       "                                          embeddings  \n",
       "0  [0.2926184, 0.1265644, 0.038128715, -0.1099310...  \n",
       "1  [0.19120462, 0.19396187, -0.041443802, -0.1012...  \n",
       "2  [0.26337358, 0.07481212, 0.045919683, -0.14281...  \n",
       "3  [0.3768471, 0.14824079, -0.08772879, -0.123735...  \n",
       "4  [0.3074227, 0.13519254, 0.047113672, -0.129043...  "
      ]
     },
     "execution_count": 19,
     "metadata": {},
     "output_type": "execute_result"
    }
   ],
   "source": [
    "train_data.head()"
   ]
  },
  {
   "cell_type": "code",
   "execution_count": 20,
   "id": "09fe4577",
   "metadata": {
    "execution": {
     "iopub.execute_input": "2024-06-27T16:27:12.259973Z",
     "iopub.status.busy": "2024-06-27T16:27:12.259630Z",
     "iopub.status.idle": "2024-06-27T16:27:12.264462Z",
     "shell.execute_reply": "2024-06-27T16:27:12.263511Z"
    },
    "papermill": {
     "duration": 0.709944,
     "end_time": "2024-06-27T16:27:12.266451",
     "exception": false,
     "start_time": "2024-06-27T16:27:11.556507",
     "status": "completed"
    },
    "tags": []
   },
   "outputs": [],
   "source": [
    "from sklearn.linear_model import LogisticRegression\n",
    "from sklearn.ensemble import RandomForestClassifier\n",
    "from sklearn.metrics import accuracy_score, precision_score, recall_score, roc_curve, auc\n",
    "import matplotlib.pyplot as plt"
   ]
  },
  {
   "cell_type": "code",
   "execution_count": 21,
   "id": "6f1c0d4c",
   "metadata": {
    "execution": {
     "iopub.execute_input": "2024-06-27T16:27:13.626926Z",
     "iopub.status.busy": "2024-06-27T16:27:13.626169Z",
     "iopub.status.idle": "2024-06-27T16:27:13.672215Z",
     "shell.execute_reply": "2024-06-27T16:27:13.671448Z"
    },
    "papermill": {
     "duration": 0.703671,
     "end_time": "2024-06-27T16:27:13.674234",
     "exception": false,
     "start_time": "2024-06-27T16:27:12.970563",
     "status": "completed"
    },
    "tags": []
   },
   "outputs": [],
   "source": [
    "X_train = np.vstack(train_data['embeddings'].values)\n",
    "y_train = train_data['sentiment'].apply(lambda x: 1 if x == 'positive' else 0).values\n",
    "\n",
    "X_test = np.vstack(test_data['embeddings'].values)\n",
    "y_test = test_data['sentiment'].apply(lambda x: 1 if x == 'positive' else 0).values"
   ]
  },
  {
   "cell_type": "code",
   "execution_count": 22,
   "id": "40a5249d",
   "metadata": {
    "execution": {
     "iopub.execute_input": "2024-06-27T16:27:15.031975Z",
     "iopub.status.busy": "2024-06-27T16:27:15.031626Z",
     "iopub.status.idle": "2024-06-27T16:27:22.365506Z",
     "shell.execute_reply": "2024-06-27T16:27:22.364471Z"
    },
    "papermill": {
     "duration": 8.036539,
     "end_time": "2024-06-27T16:27:22.367601",
     "exception": false,
     "start_time": "2024-06-27T16:27:14.331062",
     "status": "completed"
    },
    "tags": []
   },
   "outputs": [
    {
     "data": {
      "text/html": [
       "<style>#sk-container-id-1 {color: black;background-color: white;}#sk-container-id-1 pre{padding: 0;}#sk-container-id-1 div.sk-toggleable {background-color: white;}#sk-container-id-1 label.sk-toggleable__label {cursor: pointer;display: block;width: 100%;margin-bottom: 0;padding: 0.3em;box-sizing: border-box;text-align: center;}#sk-container-id-1 label.sk-toggleable__label-arrow:before {content: \"▸\";float: left;margin-right: 0.25em;color: #696969;}#sk-container-id-1 label.sk-toggleable__label-arrow:hover:before {color: black;}#sk-container-id-1 div.sk-estimator:hover label.sk-toggleable__label-arrow:before {color: black;}#sk-container-id-1 div.sk-toggleable__content {max-height: 0;max-width: 0;overflow: hidden;text-align: left;background-color: #f0f8ff;}#sk-container-id-1 div.sk-toggleable__content pre {margin: 0.2em;color: black;border-radius: 0.25em;background-color: #f0f8ff;}#sk-container-id-1 input.sk-toggleable__control:checked~div.sk-toggleable__content {max-height: 200px;max-width: 100%;overflow: auto;}#sk-container-id-1 input.sk-toggleable__control:checked~label.sk-toggleable__label-arrow:before {content: \"▾\";}#sk-container-id-1 div.sk-estimator input.sk-toggleable__control:checked~label.sk-toggleable__label {background-color: #d4ebff;}#sk-container-id-1 div.sk-label input.sk-toggleable__control:checked~label.sk-toggleable__label {background-color: #d4ebff;}#sk-container-id-1 input.sk-hidden--visually {border: 0;clip: rect(1px 1px 1px 1px);clip: rect(1px, 1px, 1px, 1px);height: 1px;margin: -1px;overflow: hidden;padding: 0;position: absolute;width: 1px;}#sk-container-id-1 div.sk-estimator {font-family: monospace;background-color: #f0f8ff;border: 1px dotted black;border-radius: 0.25em;box-sizing: border-box;margin-bottom: 0.5em;}#sk-container-id-1 div.sk-estimator:hover {background-color: #d4ebff;}#sk-container-id-1 div.sk-parallel-item::after {content: \"\";width: 100%;border-bottom: 1px solid gray;flex-grow: 1;}#sk-container-id-1 div.sk-label:hover label.sk-toggleable__label {background-color: #d4ebff;}#sk-container-id-1 div.sk-serial::before {content: \"\";position: absolute;border-left: 1px solid gray;box-sizing: border-box;top: 0;bottom: 0;left: 50%;z-index: 0;}#sk-container-id-1 div.sk-serial {display: flex;flex-direction: column;align-items: center;background-color: white;padding-right: 0.2em;padding-left: 0.2em;position: relative;}#sk-container-id-1 div.sk-item {position: relative;z-index: 1;}#sk-container-id-1 div.sk-parallel {display: flex;align-items: stretch;justify-content: center;background-color: white;position: relative;}#sk-container-id-1 div.sk-item::before, #sk-container-id-1 div.sk-parallel-item::before {content: \"\";position: absolute;border-left: 1px solid gray;box-sizing: border-box;top: 0;bottom: 0;left: 50%;z-index: -1;}#sk-container-id-1 div.sk-parallel-item {display: flex;flex-direction: column;z-index: 1;position: relative;background-color: white;}#sk-container-id-1 div.sk-parallel-item:first-child::after {align-self: flex-end;width: 50%;}#sk-container-id-1 div.sk-parallel-item:last-child::after {align-self: flex-start;width: 50%;}#sk-container-id-1 div.sk-parallel-item:only-child::after {width: 0;}#sk-container-id-1 div.sk-dashed-wrapped {border: 1px dashed gray;margin: 0 0.4em 0.5em 0.4em;box-sizing: border-box;padding-bottom: 0.4em;background-color: white;}#sk-container-id-1 div.sk-label label {font-family: monospace;font-weight: bold;display: inline-block;line-height: 1.2em;}#sk-container-id-1 div.sk-label-container {text-align: center;}#sk-container-id-1 div.sk-container {/* jupyter's `normalize.less` sets `[hidden] { display: none; }` but bootstrap.min.css set `[hidden] { display: none !important; }` so we also need the `!important` here to be able to override the default hidden behavior on the sphinx rendered scikit-learn.org. See: https://github.com/scikit-learn/scikit-learn/issues/21755 */display: inline-block !important;position: relative;}#sk-container-id-1 div.sk-text-repr-fallback {display: none;}</style><div id=\"sk-container-id-1\" class=\"sk-top-container\"><div class=\"sk-text-repr-fallback\"><pre>RandomForestClassifier()</pre><b>In a Jupyter environment, please rerun this cell to show the HTML representation or trust the notebook. <br />On GitHub, the HTML representation is unable to render, please try loading this page with nbviewer.org.</b></div><div class=\"sk-container\" hidden><div class=\"sk-item\"><div class=\"sk-estimator sk-toggleable\"><input class=\"sk-toggleable__control sk-hidden--visually\" id=\"sk-estimator-id-1\" type=\"checkbox\" checked><label for=\"sk-estimator-id-1\" class=\"sk-toggleable__label sk-toggleable__label-arrow\">RandomForestClassifier</label><div class=\"sk-toggleable__content\"><pre>RandomForestClassifier()</pre></div></div></div></div></div>"
      ],
      "text/plain": [
       "RandomForestClassifier()"
      ]
     },
     "execution_count": 22,
     "metadata": {},
     "output_type": "execute_result"
    }
   ],
   "source": [
    "lr_model = LogisticRegression(max_iter=1000)\n",
    "lr_model.fit(X_train, y_train)\n",
    "\n",
    "# Train Random Forest model\n",
    "rf_model = RandomForestClassifier()\n",
    "rf_model.fit(X_train, y_train)"
   ]
  },
  {
   "cell_type": "code",
   "execution_count": 23,
   "id": "327a4b92",
   "metadata": {
    "execution": {
     "iopub.execute_input": "2024-06-27T16:27:23.696366Z",
     "iopub.status.busy": "2024-06-27T16:27:23.695440Z",
     "iopub.status.idle": "2024-06-27T16:27:23.829990Z",
     "shell.execute_reply": "2024-06-27T16:27:23.828577Z"
    },
    "papermill": {
     "duration": 0.802386,
     "end_time": "2024-06-27T16:27:23.832961",
     "exception": false,
     "start_time": "2024-06-27T16:27:23.030575",
     "status": "completed"
    },
    "tags": []
   },
   "outputs": [],
   "source": [
    "y_pred_lr = lr_model.predict(X_test)\n",
    "y_pred_rf = rf_model.predict(X_test)"
   ]
  },
  {
   "cell_type": "code",
   "execution_count": 24,
   "id": "5c88e4bb",
   "metadata": {
    "execution": {
     "iopub.execute_input": "2024-06-27T16:27:25.186326Z",
     "iopub.status.busy": "2024-06-27T16:27:25.185968Z",
     "iopub.status.idle": "2024-06-27T16:27:25.201568Z",
     "shell.execute_reply": "2024-06-27T16:27:25.200569Z"
    },
    "papermill": {
     "duration": 0.668615,
     "end_time": "2024-06-27T16:27:25.203390",
     "exception": false,
     "start_time": "2024-06-27T16:27:24.534775",
     "status": "completed"
    },
    "tags": []
   },
   "outputs": [
    {
     "name": "stdout",
     "output_type": "stream",
     "text": [
      "Logistic Regression:\n",
      "Accuracy: 0.8581346910437399\n",
      "Precision: 0.8769035532994924\n",
      "Recall: 0.9247239879558381\n",
      "Random Forest:\n",
      "Accuracy: 0.865077528349919\n",
      "Precision: 0.8654313487241798\n",
      "Recall: 0.9531615925058547\n"
     ]
    }
   ],
   "source": [
    "# Metrics for Logistic Regression\n",
    "print('Logistic Regression:')\n",
    "print('Accuracy:', accuracy_score(y_test, y_pred_lr))\n",
    "print('Precision:', precision_score(y_test, y_pred_lr))\n",
    "print('Recall:', recall_score(y_test, y_pred_lr))\n",
    "\n",
    "# Metrics for Random Forest\n",
    "print('Random Forest:')\n",
    "print('Accuracy:', accuracy_score(y_test, y_pred_rf))\n",
    "print('Precision:', precision_score(y_test, y_pred_rf))\n",
    "print('Recall:', recall_score(y_test, y_pred_rf))"
   ]
  },
  {
   "cell_type": "code",
   "execution_count": 25,
   "id": "3e9072f7",
   "metadata": {
    "execution": {
     "iopub.execute_input": "2024-06-27T16:27:26.572052Z",
     "iopub.status.busy": "2024-06-27T16:27:26.571683Z",
     "iopub.status.idle": "2024-06-27T16:27:27.016377Z",
     "shell.execute_reply": "2024-06-27T16:27:27.015556Z"
    },
    "papermill": {
     "duration": 1.147163,
     "end_time": "2024-06-27T16:27:27.018669",
     "exception": false,
     "start_time": "2024-06-27T16:27:25.871506",
     "status": "completed"
    },
    "tags": []
   },
   "outputs": [
    {
     "data": {
      "image/png": "[encoded data removed]",
      "text/plain": [
       "<Figure size 640x480 with 1 Axes>"
      ]
     },
     "metadata": {},
     "output_type": "display_data"
    }
   ],
   "source": [
    "# ROC Curve\n",
    "fpr_lr, tpr_lr, _ = roc_curve(y_test, lr_model.predict_proba(X_test)[:, 1])\n",
    "fpr_rf, tpr_rf, _ = roc_curve(y_test, rf_model.predict_proba(X_test)[:, 1])\n",
    "\n",
    "plt.figure()\n",
    "plt.plot(fpr_lr, tpr_lr, label='Logistic Regression (area = %0.2f)' % auc(fpr_lr, tpr_lr))\n",
    "plt.plot(fpr_rf, tpr_rf, label='Random Forest (area = %0.2f)' % auc(fpr_rf, tpr_rf))\n",
    "plt.plot([0, 1], [0, 1], 'k--')\n",
    "plt.xlabel('False Positive Rate')\n",
    "plt.ylabel('True Positive Rate')\n",
    "plt.title('ROC Curve')\n",
    "plt.legend(loc='lower right')\n",
    "plt.show()"
   ]
  }
 ],
 "metadata": {
  "kaggle": {
   "accelerator": "nvidiaTeslaT4",
   "dataSources": [],
   "dockerImageVersionId": 30732,
   "isGpuEnabled": true,
   "isInternetEnabled": true,
   "language": "python",
   "sourceType": "notebook"
  },
  "kernelspec": {
   "display_name": "Python 3",
   "language": "python",
   "name": "python3"
  },
  "language_info": {
   "codemirror_mode": {
    "name": "ipython",
    "version": 3
   },
   "file_extension": ".py",
   "mimetype": "text/x-python",
   "name": "python",
   "nbconvert_exporter": "python",
   "pygments_lexer": "ipython3",
   "version": "3.10.13"
  },
  "papermill": {
   "default_parameters": {},
   "duration": 136.510587,
   "end_time": "2024-06-27T16:27:28.598454",
   "environment_variables": {},
   "exception": null,
   "input_path": "__notebook__.ipynb",
   "output_path": "__notebook__.ipynb",
   "parameters": {},
   "start_time": "2024-06-27T16:25:12.087867",
   "version": "2.5.0"
  }
 },
 "nbformat": 4,
 "nbformat_minor": 5
}
